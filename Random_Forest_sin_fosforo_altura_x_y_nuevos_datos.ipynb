{
 "cells": [
  {
   "cell_type": "code",
   "execution_count": 1,
   "metadata": {},
   "outputs": [
    {
     "data": {
      "text/html": [
       "<div>\n",
       "<style scoped>\n",
       "    .dataframe tbody tr th:only-of-type {\n",
       "        vertical-align: middle;\n",
       "    }\n",
       "\n",
       "    .dataframe tbody tr th {\n",
       "        vertical-align: top;\n",
       "    }\n",
       "\n",
       "    .dataframe thead th {\n",
       "        text-align: right;\n",
       "    }\n",
       "</style>\n",
       "<table border=\"1\" class=\"dataframe\">\n",
       "  <thead>\n",
       "    <tr style=\"text-align: right;\">\n",
       "      <th></th>\n",
       "      <th>FECHA</th>\n",
       "      <th>x</th>\n",
       "      <th>y</th>\n",
       "      <th>MCARI_OSAVI</th>\n",
       "      <th>CI_green</th>\n",
       "      <th>NDRE</th>\n",
       "      <th>NDVI</th>\n",
       "      <th>MCARI_OSAVI_RE</th>\n",
       "      <th>MTCI</th>\n",
       "      <th>TCARI_OSAVI</th>\n",
       "      <th>CCCI_simpl</th>\n",
       "      <th>GNDVI</th>\n",
       "      <th>CCCI</th>\n",
       "      <th>N_TOTAL</th>\n",
       "      <th>RVI</th>\n",
       "      <th>CIred_edge</th>\n",
       "      <th>TCARI_OSAVI_RE</th>\n",
       "    </tr>\n",
       "  </thead>\n",
       "  <tbody>\n",
       "    <tr>\n",
       "      <th>0</th>\n",
       "      <td>09/11/2017</td>\n",
       "      <td>672991</td>\n",
       "      <td>2834763</td>\n",
       "      <td>0.283920</td>\n",
       "      <td>1.015761</td>\n",
       "      <td>0.074783</td>\n",
       "      <td>0.206467</td>\n",
       "      <td>0.155900</td>\n",
       "      <td>0.691066</td>\n",
       "      <td>1.357306</td>\n",
       "      <td>0.155488</td>\n",
       "      <td>0.336669</td>\n",
       "      <td>0.362977</td>\n",
       "      <td>3.26</td>\n",
       "      <td>1.520898</td>\n",
       "      <td>0.161725</td>\n",
       "      <td>2.154459</td>\n",
       "    </tr>\n",
       "    <tr>\n",
       "      <th>1</th>\n",
       "      <td>09/11/2017</td>\n",
       "      <td>673009</td>\n",
       "      <td>2834792</td>\n",
       "      <td>0.274314</td>\n",
       "      <td>0.985348</td>\n",
       "      <td>0.077153</td>\n",
       "      <td>0.203141</td>\n",
       "      <td>0.188865</td>\n",
       "      <td>0.753115</td>\n",
       "      <td>1.316350</td>\n",
       "      <td>0.175170</td>\n",
       "      <td>0.329649</td>\n",
       "      <td>0.382892</td>\n",
       "      <td>3.31</td>\n",
       "      <td>1.511626</td>\n",
       "      <td>0.167301</td>\n",
       "      <td>2.188258</td>\n",
       "    </tr>\n",
       "    <tr>\n",
       "      <th>2</th>\n",
       "      <td>09/11/2017</td>\n",
       "      <td>673016</td>\n",
       "      <td>2834822</td>\n",
       "      <td>0.294672</td>\n",
       "      <td>1.093054</td>\n",
       "      <td>0.079282</td>\n",
       "      <td>0.228269</td>\n",
       "      <td>0.164282</td>\n",
       "      <td>0.662644</td>\n",
       "      <td>1.376631</td>\n",
       "      <td>0.192850</td>\n",
       "      <td>0.353286</td>\n",
       "      <td>0.348945</td>\n",
       "      <td>3.78</td>\n",
       "      <td>1.592500</td>\n",
       "      <td>0.172282</td>\n",
       "      <td>2.167296</td>\n",
       "    </tr>\n",
       "    <tr>\n",
       "      <th>3</th>\n",
       "      <td>09/11/2017</td>\n",
       "      <td>673030</td>\n",
       "      <td>2834850</td>\n",
       "      <td>0.296775</td>\n",
       "      <td>1.191791</td>\n",
       "      <td>0.094331</td>\n",
       "      <td>0.268019</td>\n",
       "      <td>0.236521</td>\n",
       "      <td>0.704585</td>\n",
       "      <td>1.336456</td>\n",
       "      <td>0.317840</td>\n",
       "      <td>0.372851</td>\n",
       "      <td>0.355268</td>\n",
       "      <td>3.48</td>\n",
       "      <td>1.736582</td>\n",
       "      <td>0.208449</td>\n",
       "      <td>2.237800</td>\n",
       "    </tr>\n",
       "    <tr>\n",
       "      <th>4</th>\n",
       "      <td>09/11/2017</td>\n",
       "      <td>673053</td>\n",
       "      <td>2834876</td>\n",
       "      <td>0.239374</td>\n",
       "      <td>1.052623</td>\n",
       "      <td>0.099655</td>\n",
       "      <td>0.230299</td>\n",
       "      <td>0.288989</td>\n",
       "      <td>0.957019</td>\n",
       "      <td>1.114491</td>\n",
       "      <td>0.362056</td>\n",
       "      <td>0.344411</td>\n",
       "      <td>0.435488</td>\n",
       "      <td>3.49</td>\n",
       "      <td>1.600575</td>\n",
       "      <td>0.221476</td>\n",
       "      <td>2.164132</td>\n",
       "    </tr>\n",
       "  </tbody>\n",
       "</table>\n",
       "</div>"
      ],
      "text/plain": [
       "        FECHA       x        y  MCARI_OSAVI  CI_green      NDRE      NDVI  \\\n",
       "0  09/11/2017  672991  2834763     0.283920  1.015761  0.074783  0.206467   \n",
       "1  09/11/2017  673009  2834792     0.274314  0.985348  0.077153  0.203141   \n",
       "2  09/11/2017  673016  2834822     0.294672  1.093054  0.079282  0.228269   \n",
       "3  09/11/2017  673030  2834850     0.296775  1.191791  0.094331  0.268019   \n",
       "4  09/11/2017  673053  2834876     0.239374  1.052623  0.099655  0.230299   \n",
       "\n",
       "   MCARI_OSAVI_RE      MTCI  TCARI_OSAVI  CCCI_simpl     GNDVI      CCCI  \\\n",
       "0        0.155900  0.691066     1.357306    0.155488  0.336669  0.362977   \n",
       "1        0.188865  0.753115     1.316350    0.175170  0.329649  0.382892   \n",
       "2        0.164282  0.662644     1.376631    0.192850  0.353286  0.348945   \n",
       "3        0.236521  0.704585     1.336456    0.317840  0.372851  0.355268   \n",
       "4        0.288989  0.957019     1.114491    0.362056  0.344411  0.435488   \n",
       "\n",
       "   N_TOTAL       RVI  CIred_edge  TCARI_OSAVI_RE  \n",
       "0     3.26  1.520898    0.161725        2.154459  \n",
       "1     3.31  1.511626    0.167301        2.188258  \n",
       "2     3.78  1.592500    0.172282        2.167296  \n",
       "3     3.48  1.736582    0.208449        2.237800  \n",
       "4     3.49  1.600575    0.221476        2.164132  "
      ]
     },
     "execution_count": 1,
     "metadata": {},
     "output_type": "execute_result"
    }
   ],
   "source": [
    "# librerías\n",
    "from sklearn.ensemble import RandomForestRegressor\n",
    "# The error metric, In this cas, we will use c-stat (aka ROC/AUC)\n",
    "from sklearn.metrics import roc_auc_score\n",
    "# an efficient data structure\n",
    "import pandas as pd\n",
    "# \n",
    "import matplotlib.pyplot as plt\n",
    "\n",
    "import seaborn as sns\n",
    "\n",
    "# graphs\n",
    "%matplotlib inline\n",
    "\n",
    "# style\n",
    "plt.style.use('seaborn')\n",
    "\n",
    "#import the data\n",
    "df = pd.read_csv(\"data/muestreo_con_indices.csv\")\n",
    "df.head()"
   ]
  },
  {
   "cell_type": "code",
   "execution_count": 2,
   "metadata": {},
   "outputs": [
    {
     "data": {
      "text/plain": [
       "Index(['FECHA', 'x', 'y', 'MCARI_OSAVI', 'CI_green', 'NDRE', 'NDVI',\n",
       "       'MCARI_OSAVI_RE', 'MTCI', 'TCARI_OSAVI', 'CCCI_simpl', 'GNDVI', 'CCCI',\n",
       "       'N_TOTAL', 'RVI', 'CIred_edge', 'TCARI_OSAVI_RE'],\n",
       "      dtype='object')"
      ]
     },
     "execution_count": 2,
     "metadata": {},
     "output_type": "execute_result"
    }
   ],
   "source": [
    "df.columns"
   ]
  },
  {
   "cell_type": "code",
   "execution_count": 3,
   "metadata": {},
   "outputs": [],
   "source": [
    "cols = ['FECHA', 'x', 'y', 'MCARI_OSAVI', 'CI_green', 'NDRE', 'NDVI',\n",
    "       'MCARI_OSAVI_RE', 'MTCI', 'TCARI_OSAVI', 'CCCI_simpl', 'GNDVI', 'CCCI',\n",
    "       'RVI', 'CIred_edge', 'TCARI_OSAVI_RE','N_TOTAL']\n"
   ]
  },
  {
   "cell_type": "code",
   "execution_count": 4,
   "metadata": {},
   "outputs": [
    {
     "data": {
      "text/html": [
       "<div>\n",
       "<style scoped>\n",
       "    .dataframe tbody tr th:only-of-type {\n",
       "        vertical-align: middle;\n",
       "    }\n",
       "\n",
       "    .dataframe tbody tr th {\n",
       "        vertical-align: top;\n",
       "    }\n",
       "\n",
       "    .dataframe thead th {\n",
       "        text-align: right;\n",
       "    }\n",
       "</style>\n",
       "<table border=\"1\" class=\"dataframe\">\n",
       "  <thead>\n",
       "    <tr style=\"text-align: right;\">\n",
       "      <th></th>\n",
       "      <th>FECHA</th>\n",
       "      <th>x</th>\n",
       "      <th>y</th>\n",
       "      <th>MCARI_OSAVI</th>\n",
       "      <th>CI_green</th>\n",
       "      <th>NDRE</th>\n",
       "      <th>NDVI</th>\n",
       "      <th>MCARI_OSAVI_RE</th>\n",
       "      <th>MTCI</th>\n",
       "      <th>TCARI_OSAVI</th>\n",
       "      <th>CCCI_simpl</th>\n",
       "      <th>GNDVI</th>\n",
       "      <th>CCCI</th>\n",
       "      <th>RVI</th>\n",
       "      <th>CIred_edge</th>\n",
       "      <th>TCARI_OSAVI_RE</th>\n",
       "      <th>N_TOTAL</th>\n",
       "    </tr>\n",
       "  </thead>\n",
       "  <tbody>\n",
       "    <tr>\n",
       "      <th>0</th>\n",
       "      <td>09/11/2017</td>\n",
       "      <td>672991</td>\n",
       "      <td>2834763</td>\n",
       "      <td>0.283920</td>\n",
       "      <td>1.015761</td>\n",
       "      <td>0.074783</td>\n",
       "      <td>0.206467</td>\n",
       "      <td>0.155900</td>\n",
       "      <td>0.691066</td>\n",
       "      <td>1.357306</td>\n",
       "      <td>0.155488</td>\n",
       "      <td>0.336669</td>\n",
       "      <td>0.362977</td>\n",
       "      <td>1.520898</td>\n",
       "      <td>0.161725</td>\n",
       "      <td>2.154459</td>\n",
       "      <td>3.26</td>\n",
       "    </tr>\n",
       "    <tr>\n",
       "      <th>1</th>\n",
       "      <td>09/11/2017</td>\n",
       "      <td>673009</td>\n",
       "      <td>2834792</td>\n",
       "      <td>0.274314</td>\n",
       "      <td>0.985348</td>\n",
       "      <td>0.077153</td>\n",
       "      <td>0.203141</td>\n",
       "      <td>0.188865</td>\n",
       "      <td>0.753115</td>\n",
       "      <td>1.316350</td>\n",
       "      <td>0.175170</td>\n",
       "      <td>0.329649</td>\n",
       "      <td>0.382892</td>\n",
       "      <td>1.511626</td>\n",
       "      <td>0.167301</td>\n",
       "      <td>2.188258</td>\n",
       "      <td>3.31</td>\n",
       "    </tr>\n",
       "    <tr>\n",
       "      <th>2</th>\n",
       "      <td>09/11/2017</td>\n",
       "      <td>673016</td>\n",
       "      <td>2834822</td>\n",
       "      <td>0.294672</td>\n",
       "      <td>1.093054</td>\n",
       "      <td>0.079282</td>\n",
       "      <td>0.228269</td>\n",
       "      <td>0.164282</td>\n",
       "      <td>0.662644</td>\n",
       "      <td>1.376631</td>\n",
       "      <td>0.192850</td>\n",
       "      <td>0.353286</td>\n",
       "      <td>0.348945</td>\n",
       "      <td>1.592500</td>\n",
       "      <td>0.172282</td>\n",
       "      <td>2.167296</td>\n",
       "      <td>3.78</td>\n",
       "    </tr>\n",
       "    <tr>\n",
       "      <th>3</th>\n",
       "      <td>09/11/2017</td>\n",
       "      <td>673030</td>\n",
       "      <td>2834850</td>\n",
       "      <td>0.296775</td>\n",
       "      <td>1.191791</td>\n",
       "      <td>0.094331</td>\n",
       "      <td>0.268019</td>\n",
       "      <td>0.236521</td>\n",
       "      <td>0.704585</td>\n",
       "      <td>1.336456</td>\n",
       "      <td>0.317840</td>\n",
       "      <td>0.372851</td>\n",
       "      <td>0.355268</td>\n",
       "      <td>1.736582</td>\n",
       "      <td>0.208449</td>\n",
       "      <td>2.237800</td>\n",
       "      <td>3.48</td>\n",
       "    </tr>\n",
       "    <tr>\n",
       "      <th>4</th>\n",
       "      <td>09/11/2017</td>\n",
       "      <td>673053</td>\n",
       "      <td>2834876</td>\n",
       "      <td>0.239374</td>\n",
       "      <td>1.052623</td>\n",
       "      <td>0.099655</td>\n",
       "      <td>0.230299</td>\n",
       "      <td>0.288989</td>\n",
       "      <td>0.957019</td>\n",
       "      <td>1.114491</td>\n",
       "      <td>0.362056</td>\n",
       "      <td>0.344411</td>\n",
       "      <td>0.435488</td>\n",
       "      <td>1.600575</td>\n",
       "      <td>0.221476</td>\n",
       "      <td>2.164132</td>\n",
       "      <td>3.49</td>\n",
       "    </tr>\n",
       "  </tbody>\n",
       "</table>\n",
       "</div>"
      ],
      "text/plain": [
       "        FECHA       x        y  MCARI_OSAVI  CI_green      NDRE      NDVI  \\\n",
       "0  09/11/2017  672991  2834763     0.283920  1.015761  0.074783  0.206467   \n",
       "1  09/11/2017  673009  2834792     0.274314  0.985348  0.077153  0.203141   \n",
       "2  09/11/2017  673016  2834822     0.294672  1.093054  0.079282  0.228269   \n",
       "3  09/11/2017  673030  2834850     0.296775  1.191791  0.094331  0.268019   \n",
       "4  09/11/2017  673053  2834876     0.239374  1.052623  0.099655  0.230299   \n",
       "\n",
       "   MCARI_OSAVI_RE      MTCI  TCARI_OSAVI  CCCI_simpl     GNDVI      CCCI  \\\n",
       "0        0.155900  0.691066     1.357306    0.155488  0.336669  0.362977   \n",
       "1        0.188865  0.753115     1.316350    0.175170  0.329649  0.382892   \n",
       "2        0.164282  0.662644     1.376631    0.192850  0.353286  0.348945   \n",
       "3        0.236521  0.704585     1.336456    0.317840  0.372851  0.355268   \n",
       "4        0.288989  0.957019     1.114491    0.362056  0.344411  0.435488   \n",
       "\n",
       "        RVI  CIred_edge  TCARI_OSAVI_RE  N_TOTAL  \n",
       "0  1.520898    0.161725        2.154459     3.26  \n",
       "1  1.511626    0.167301        2.188258     3.31  \n",
       "2  1.592500    0.172282        2.167296     3.78  \n",
       "3  1.736582    0.208449        2.237800     3.48  \n",
       "4  1.600575    0.221476        2.164132     3.49  "
      ]
     },
     "execution_count": 4,
     "metadata": {},
     "output_type": "execute_result"
    }
   ],
   "source": [
    "df = df[cols]\n",
    "df.head()"
   ]
  },
  {
   "cell_type": "code",
   "execution_count": 5,
   "metadata": {},
   "outputs": [],
   "source": [
    "X = df\n",
    "y = X.pop(\"N_TOTAL\")"
   ]
  },
  {
   "cell_type": "code",
   "execution_count": 6,
   "metadata": {},
   "outputs": [
    {
     "data": {
      "text/plain": [
       "FECHA             162\n",
       "x                 162\n",
       "y                 162\n",
       "MCARI_OSAVI       162\n",
       "CI_green          162\n",
       "NDRE              162\n",
       "NDVI              162\n",
       "MCARI_OSAVI_RE    162\n",
       "MTCI              162\n",
       "TCARI_OSAVI       162\n",
       "CCCI_simpl        162\n",
       "GNDVI             162\n",
       "CCCI              162\n",
       "RVI               162\n",
       "CIred_edge        162\n",
       "TCARI_OSAVI_RE    162\n",
       "dtype: int64"
      ]
     },
     "execution_count": 6,
     "metadata": {},
     "output_type": "execute_result"
    }
   ],
   "source": [
    "X.count()"
   ]
  },
  {
   "cell_type": "code",
   "execution_count": 7,
   "metadata": {},
   "outputs": [
    {
     "name": "stdout",
     "output_type": "stream",
     "text": [
      "<class 'pandas.core.frame.DataFrame'>\n",
      "RangeIndex: 162 entries, 0 to 161\n",
      "Data columns (total 16 columns):\n",
      "FECHA             162 non-null object\n",
      "x                 162 non-null int64\n",
      "y                 162 non-null int64\n",
      "MCARI_OSAVI       162 non-null float64\n",
      "CI_green          162 non-null float64\n",
      "NDRE              162 non-null float64\n",
      "NDVI              162 non-null float64\n",
      "MCARI_OSAVI_RE    162 non-null float64\n",
      "MTCI              162 non-null float64\n",
      "TCARI_OSAVI       162 non-null float64\n",
      "CCCI_simpl        162 non-null float64\n",
      "GNDVI             162 non-null float64\n",
      "CCCI              162 non-null float64\n",
      "RVI               162 non-null float64\n",
      "CIred_edge        162 non-null float64\n",
      "TCARI_OSAVI_RE    162 non-null float64\n",
      "dtypes: float64(13), int64(2), object(1)\n",
      "memory usage: 20.3+ KB\n"
     ]
    }
   ],
   "source": [
    "df.info()"
   ]
  },
  {
   "cell_type": "code",
   "execution_count": 8,
   "metadata": {},
   "outputs": [
    {
     "data": {
      "text/html": [
       "<div>\n",
       "<style scoped>\n",
       "    .dataframe tbody tr th:only-of-type {\n",
       "        vertical-align: middle;\n",
       "    }\n",
       "\n",
       "    .dataframe tbody tr th {\n",
       "        vertical-align: top;\n",
       "    }\n",
       "\n",
       "    .dataframe thead th {\n",
       "        text-align: right;\n",
       "    }\n",
       "</style>\n",
       "<table border=\"1\" class=\"dataframe\">\n",
       "  <thead>\n",
       "    <tr style=\"text-align: right;\">\n",
       "      <th></th>\n",
       "      <th>x</th>\n",
       "      <th>y</th>\n",
       "      <th>MCARI_OSAVI</th>\n",
       "      <th>CI_green</th>\n",
       "      <th>NDRE</th>\n",
       "      <th>NDVI</th>\n",
       "      <th>MCARI_OSAVI_RE</th>\n",
       "      <th>MTCI</th>\n",
       "      <th>TCARI_OSAVI</th>\n",
       "      <th>CCCI_simpl</th>\n",
       "      <th>GNDVI</th>\n",
       "      <th>CCCI</th>\n",
       "      <th>RVI</th>\n",
       "      <th>CIred_edge</th>\n",
       "      <th>TCARI_OSAVI_RE</th>\n",
       "    </tr>\n",
       "  </thead>\n",
       "  <tbody>\n",
       "    <tr>\n",
       "      <th>0</th>\n",
       "      <td>672991</td>\n",
       "      <td>2834763</td>\n",
       "      <td>0.283920</td>\n",
       "      <td>1.015761</td>\n",
       "      <td>0.074783</td>\n",
       "      <td>0.206467</td>\n",
       "      <td>0.155900</td>\n",
       "      <td>0.691066</td>\n",
       "      <td>1.357306</td>\n",
       "      <td>0.155488</td>\n",
       "      <td>0.336669</td>\n",
       "      <td>0.362977</td>\n",
       "      <td>1.520898</td>\n",
       "      <td>0.161725</td>\n",
       "      <td>2.154459</td>\n",
       "    </tr>\n",
       "    <tr>\n",
       "      <th>1</th>\n",
       "      <td>673009</td>\n",
       "      <td>2834792</td>\n",
       "      <td>0.274314</td>\n",
       "      <td>0.985348</td>\n",
       "      <td>0.077153</td>\n",
       "      <td>0.203141</td>\n",
       "      <td>0.188865</td>\n",
       "      <td>0.753115</td>\n",
       "      <td>1.316350</td>\n",
       "      <td>0.175170</td>\n",
       "      <td>0.329649</td>\n",
       "      <td>0.382892</td>\n",
       "      <td>1.511626</td>\n",
       "      <td>0.167301</td>\n",
       "      <td>2.188258</td>\n",
       "    </tr>\n",
       "    <tr>\n",
       "      <th>2</th>\n",
       "      <td>673016</td>\n",
       "      <td>2834822</td>\n",
       "      <td>0.294672</td>\n",
       "      <td>1.093054</td>\n",
       "      <td>0.079282</td>\n",
       "      <td>0.228269</td>\n",
       "      <td>0.164282</td>\n",
       "      <td>0.662644</td>\n",
       "      <td>1.376631</td>\n",
       "      <td>0.192850</td>\n",
       "      <td>0.353286</td>\n",
       "      <td>0.348945</td>\n",
       "      <td>1.592500</td>\n",
       "      <td>0.172282</td>\n",
       "      <td>2.167296</td>\n",
       "    </tr>\n",
       "    <tr>\n",
       "      <th>3</th>\n",
       "      <td>673030</td>\n",
       "      <td>2834850</td>\n",
       "      <td>0.296775</td>\n",
       "      <td>1.191791</td>\n",
       "      <td>0.094331</td>\n",
       "      <td>0.268019</td>\n",
       "      <td>0.236521</td>\n",
       "      <td>0.704585</td>\n",
       "      <td>1.336456</td>\n",
       "      <td>0.317840</td>\n",
       "      <td>0.372851</td>\n",
       "      <td>0.355268</td>\n",
       "      <td>1.736582</td>\n",
       "      <td>0.208449</td>\n",
       "      <td>2.237800</td>\n",
       "    </tr>\n",
       "    <tr>\n",
       "      <th>4</th>\n",
       "      <td>673053</td>\n",
       "      <td>2834876</td>\n",
       "      <td>0.239374</td>\n",
       "      <td>1.052623</td>\n",
       "      <td>0.099655</td>\n",
       "      <td>0.230299</td>\n",
       "      <td>0.288989</td>\n",
       "      <td>0.957019</td>\n",
       "      <td>1.114491</td>\n",
       "      <td>0.362056</td>\n",
       "      <td>0.344411</td>\n",
       "      <td>0.435488</td>\n",
       "      <td>1.600575</td>\n",
       "      <td>0.221476</td>\n",
       "      <td>2.164132</td>\n",
       "    </tr>\n",
       "    <tr>\n",
       "      <th>5</th>\n",
       "      <td>673055</td>\n",
       "      <td>2834900</td>\n",
       "      <td>0.244962</td>\n",
       "      <td>0.979648</td>\n",
       "      <td>0.087967</td>\n",
       "      <td>0.206629</td>\n",
       "      <td>0.258192</td>\n",
       "      <td>0.903606</td>\n",
       "      <td>1.172938</td>\n",
       "      <td>0.264985</td>\n",
       "      <td>0.328648</td>\n",
       "      <td>0.426990</td>\n",
       "      <td>1.521703</td>\n",
       "      <td>0.192978</td>\n",
       "      <td>2.182215</td>\n",
       "    </tr>\n",
       "    <tr>\n",
       "      <th>6</th>\n",
       "      <td>673174</td>\n",
       "      <td>2834640</td>\n",
       "      <td>0.266601</td>\n",
       "      <td>0.946594</td>\n",
       "      <td>0.072872</td>\n",
       "      <td>0.190868</td>\n",
       "      <td>0.164325</td>\n",
       "      <td>0.741186</td>\n",
       "      <td>1.300863</td>\n",
       "      <td>0.139618</td>\n",
       "      <td>0.321137</td>\n",
       "      <td>0.382338</td>\n",
       "      <td>1.472472</td>\n",
       "      <td>0.157310</td>\n",
       "      <td>2.128348</td>\n",
       "    </tr>\n",
       "    <tr>\n",
       "      <th>7</th>\n",
       "      <td>673177</td>\n",
       "      <td>2834950</td>\n",
       "      <td>0.305626</td>\n",
       "      <td>1.257123</td>\n",
       "      <td>0.090900</td>\n",
       "      <td>0.270798</td>\n",
       "      <td>0.197606</td>\n",
       "      <td>0.644648</td>\n",
       "      <td>1.391197</td>\n",
       "      <td>0.289347</td>\n",
       "      <td>0.385795</td>\n",
       "      <td>0.335682</td>\n",
       "      <td>1.743250</td>\n",
       "      <td>0.200117</td>\n",
       "      <td>2.227669</td>\n",
       "    </tr>\n",
       "    <tr>\n",
       "      <th>8</th>\n",
       "      <td>673184</td>\n",
       "      <td>2834661</td>\n",
       "      <td>0.308447</td>\n",
       "      <td>1.207189</td>\n",
       "      <td>0.086401</td>\n",
       "      <td>0.273490</td>\n",
       "      <td>0.173436</td>\n",
       "      <td>0.591143</td>\n",
       "      <td>1.378921</td>\n",
       "      <td>0.251979</td>\n",
       "      <td>0.375673</td>\n",
       "      <td>0.316236</td>\n",
       "      <td>1.756289</td>\n",
       "      <td>0.189377</td>\n",
       "      <td>2.118948</td>\n",
       "    </tr>\n",
       "    <tr>\n",
       "      <th>9</th>\n",
       "      <td>673198</td>\n",
       "      <td>2834685</td>\n",
       "      <td>0.289723</td>\n",
       "      <td>1.100163</td>\n",
       "      <td>0.074131</td>\n",
       "      <td>0.226684</td>\n",
       "      <td>0.114325</td>\n",
       "      <td>0.598586</td>\n",
       "      <td>1.355004</td>\n",
       "      <td>0.150069</td>\n",
       "      <td>0.354695</td>\n",
       "      <td>0.327098</td>\n",
       "      <td>1.586881</td>\n",
       "      <td>0.160238</td>\n",
       "      <td>2.011704</td>\n",
       "    </tr>\n",
       "  </tbody>\n",
       "</table>\n",
       "</div>"
      ],
      "text/plain": [
       "        x        y  MCARI_OSAVI  CI_green      NDRE      NDVI  MCARI_OSAVI_RE  \\\n",
       "0  672991  2834763     0.283920  1.015761  0.074783  0.206467        0.155900   \n",
       "1  673009  2834792     0.274314  0.985348  0.077153  0.203141        0.188865   \n",
       "2  673016  2834822     0.294672  1.093054  0.079282  0.228269        0.164282   \n",
       "3  673030  2834850     0.296775  1.191791  0.094331  0.268019        0.236521   \n",
       "4  673053  2834876     0.239374  1.052623  0.099655  0.230299        0.288989   \n",
       "5  673055  2834900     0.244962  0.979648  0.087967  0.206629        0.258192   \n",
       "6  673174  2834640     0.266601  0.946594  0.072872  0.190868        0.164325   \n",
       "7  673177  2834950     0.305626  1.257123  0.090900  0.270798        0.197606   \n",
       "8  673184  2834661     0.308447  1.207189  0.086401  0.273490        0.173436   \n",
       "9  673198  2834685     0.289723  1.100163  0.074131  0.226684        0.114325   \n",
       "\n",
       "       MTCI  TCARI_OSAVI  CCCI_simpl     GNDVI      CCCI       RVI  \\\n",
       "0  0.691066     1.357306    0.155488  0.336669  0.362977  1.520898   \n",
       "1  0.753115     1.316350    0.175170  0.329649  0.382892  1.511626   \n",
       "2  0.662644     1.376631    0.192850  0.353286  0.348945  1.592500   \n",
       "3  0.704585     1.336456    0.317840  0.372851  0.355268  1.736582   \n",
       "4  0.957019     1.114491    0.362056  0.344411  0.435488  1.600575   \n",
       "5  0.903606     1.172938    0.264985  0.328648  0.426990  1.521703   \n",
       "6  0.741186     1.300863    0.139618  0.321137  0.382338  1.472472   \n",
       "7  0.644648     1.391197    0.289347  0.385795  0.335682  1.743250   \n",
       "8  0.591143     1.378921    0.251979  0.375673  0.316236  1.756289   \n",
       "9  0.598586     1.355004    0.150069  0.354695  0.327098  1.586881   \n",
       "\n",
       "   CIred_edge  TCARI_OSAVI_RE  \n",
       "0    0.161725        2.154459  \n",
       "1    0.167301        2.188258  \n",
       "2    0.172282        2.167296  \n",
       "3    0.208449        2.237800  \n",
       "4    0.221476        2.164132  \n",
       "5    0.192978        2.182215  \n",
       "6    0.157310        2.128348  \n",
       "7    0.200117        2.227669  \n",
       "8    0.189377        2.118948  \n",
       "9    0.160238        2.011704  "
      ]
     },
     "execution_count": 8,
     "metadata": {},
     "output_type": "execute_result"
    }
   ],
   "source": [
    "# get just the numeric variables by selecting only the variables that are not \"object\" datatypes\n",
    "numeric_variables = list(X.dtypes[X.dtypes != \"object\"].index)\n",
    "X[numeric_variables].head(10)"
   ]
  },
  {
   "cell_type": "code",
   "execution_count": 9,
   "metadata": {},
   "outputs": [
    {
     "data": {
      "text/html": [
       "<div>\n",
       "<style scoped>\n",
       "    .dataframe tbody tr th:only-of-type {\n",
       "        vertical-align: middle;\n",
       "    }\n",
       "\n",
       "    .dataframe tbody tr th {\n",
       "        vertical-align: top;\n",
       "    }\n",
       "\n",
       "    .dataframe thead th {\n",
       "        text-align: right;\n",
       "    }\n",
       "</style>\n",
       "<table border=\"1\" class=\"dataframe\">\n",
       "  <thead>\n",
       "    <tr style=\"text-align: right;\">\n",
       "      <th></th>\n",
       "      <th>FECHA</th>\n",
       "      <th>x</th>\n",
       "      <th>y</th>\n",
       "      <th>MCARI_OSAVI</th>\n",
       "      <th>CI_green</th>\n",
       "      <th>NDRE</th>\n",
       "      <th>NDVI</th>\n",
       "      <th>MCARI_OSAVI_RE</th>\n",
       "      <th>MTCI</th>\n",
       "      <th>TCARI_OSAVI</th>\n",
       "      <th>CCCI_simpl</th>\n",
       "      <th>GNDVI</th>\n",
       "      <th>CCCI</th>\n",
       "      <th>RVI</th>\n",
       "      <th>CIred_edge</th>\n",
       "      <th>TCARI_OSAVI_RE</th>\n",
       "    </tr>\n",
       "  </thead>\n",
       "  <tbody>\n",
       "    <tr>\n",
       "      <th>0</th>\n",
       "      <td>09/11/2017</td>\n",
       "      <td>672991</td>\n",
       "      <td>2834763</td>\n",
       "      <td>0.283920</td>\n",
       "      <td>1.015761</td>\n",
       "      <td>0.074783</td>\n",
       "      <td>0.206467</td>\n",
       "      <td>0.155900</td>\n",
       "      <td>0.691066</td>\n",
       "      <td>1.357306</td>\n",
       "      <td>0.155488</td>\n",
       "      <td>0.336669</td>\n",
       "      <td>0.362977</td>\n",
       "      <td>1.520898</td>\n",
       "      <td>0.161725</td>\n",
       "      <td>2.154459</td>\n",
       "    </tr>\n",
       "    <tr>\n",
       "      <th>1</th>\n",
       "      <td>09/11/2017</td>\n",
       "      <td>673009</td>\n",
       "      <td>2834792</td>\n",
       "      <td>0.274314</td>\n",
       "      <td>0.985348</td>\n",
       "      <td>0.077153</td>\n",
       "      <td>0.203141</td>\n",
       "      <td>0.188865</td>\n",
       "      <td>0.753115</td>\n",
       "      <td>1.316350</td>\n",
       "      <td>0.175170</td>\n",
       "      <td>0.329649</td>\n",
       "      <td>0.382892</td>\n",
       "      <td>1.511626</td>\n",
       "      <td>0.167301</td>\n",
       "      <td>2.188258</td>\n",
       "    </tr>\n",
       "    <tr>\n",
       "      <th>2</th>\n",
       "      <td>09/11/2017</td>\n",
       "      <td>673016</td>\n",
       "      <td>2834822</td>\n",
       "      <td>0.294672</td>\n",
       "      <td>1.093054</td>\n",
       "      <td>0.079282</td>\n",
       "      <td>0.228269</td>\n",
       "      <td>0.164282</td>\n",
       "      <td>0.662644</td>\n",
       "      <td>1.376631</td>\n",
       "      <td>0.192850</td>\n",
       "      <td>0.353286</td>\n",
       "      <td>0.348945</td>\n",
       "      <td>1.592500</td>\n",
       "      <td>0.172282</td>\n",
       "      <td>2.167296</td>\n",
       "    </tr>\n",
       "    <tr>\n",
       "      <th>3</th>\n",
       "      <td>09/11/2017</td>\n",
       "      <td>673030</td>\n",
       "      <td>2834850</td>\n",
       "      <td>0.296775</td>\n",
       "      <td>1.191791</td>\n",
       "      <td>0.094331</td>\n",
       "      <td>0.268019</td>\n",
       "      <td>0.236521</td>\n",
       "      <td>0.704585</td>\n",
       "      <td>1.336456</td>\n",
       "      <td>0.317840</td>\n",
       "      <td>0.372851</td>\n",
       "      <td>0.355268</td>\n",
       "      <td>1.736582</td>\n",
       "      <td>0.208449</td>\n",
       "      <td>2.237800</td>\n",
       "    </tr>\n",
       "    <tr>\n",
       "      <th>4</th>\n",
       "      <td>09/11/2017</td>\n",
       "      <td>673053</td>\n",
       "      <td>2834876</td>\n",
       "      <td>0.239374</td>\n",
       "      <td>1.052623</td>\n",
       "      <td>0.099655</td>\n",
       "      <td>0.230299</td>\n",
       "      <td>0.288989</td>\n",
       "      <td>0.957019</td>\n",
       "      <td>1.114491</td>\n",
       "      <td>0.362056</td>\n",
       "      <td>0.344411</td>\n",
       "      <td>0.435488</td>\n",
       "      <td>1.600575</td>\n",
       "      <td>0.221476</td>\n",
       "      <td>2.164132</td>\n",
       "    </tr>\n",
       "  </tbody>\n",
       "</table>\n",
       "</div>"
      ],
      "text/plain": [
       "        FECHA       x        y  MCARI_OSAVI  CI_green      NDRE      NDVI  \\\n",
       "0  09/11/2017  672991  2834763     0.283920  1.015761  0.074783  0.206467   \n",
       "1  09/11/2017  673009  2834792     0.274314  0.985348  0.077153  0.203141   \n",
       "2  09/11/2017  673016  2834822     0.294672  1.093054  0.079282  0.228269   \n",
       "3  09/11/2017  673030  2834850     0.296775  1.191791  0.094331  0.268019   \n",
       "4  09/11/2017  673053  2834876     0.239374  1.052623  0.099655  0.230299   \n",
       "\n",
       "   MCARI_OSAVI_RE      MTCI  TCARI_OSAVI  CCCI_simpl     GNDVI      CCCI  \\\n",
       "0        0.155900  0.691066     1.357306    0.155488  0.336669  0.362977   \n",
       "1        0.188865  0.753115     1.316350    0.175170  0.329649  0.382892   \n",
       "2        0.164282  0.662644     1.376631    0.192850  0.353286  0.348945   \n",
       "3        0.236521  0.704585     1.336456    0.317840  0.372851  0.355268   \n",
       "4        0.288989  0.957019     1.114491    0.362056  0.344411  0.435488   \n",
       "\n",
       "        RVI  CIred_edge  TCARI_OSAVI_RE  \n",
       "0  1.520898    0.161725        2.154459  \n",
       "1  1.511626    0.167301        2.188258  \n",
       "2  1.592500    0.172282        2.167296  \n",
       "3  1.736582    0.208449        2.237800  \n",
       "4  1.600575    0.221476        2.164132  "
      ]
     },
     "execution_count": 9,
     "metadata": {},
     "output_type": "execute_result"
    }
   ],
   "source": [
    "X.head()"
   ]
  },
  {
   "cell_type": "code",
   "execution_count": 10,
   "metadata": {},
   "outputs": [
    {
     "data": {
      "text/html": [
       "<div>\n",
       "<style scoped>\n",
       "    .dataframe tbody tr th:only-of-type {\n",
       "        vertical-align: middle;\n",
       "    }\n",
       "\n",
       "    .dataframe tbody tr th {\n",
       "        vertical-align: top;\n",
       "    }\n",
       "\n",
       "    .dataframe thead th {\n",
       "        text-align: right;\n",
       "    }\n",
       "</style>\n",
       "<table border=\"1\" class=\"dataframe\">\n",
       "  <thead>\n",
       "    <tr style=\"text-align: right;\">\n",
       "      <th></th>\n",
       "      <th>FECHA</th>\n",
       "      <th>MCARI_OSAVI</th>\n",
       "      <th>CI_green</th>\n",
       "      <th>NDRE</th>\n",
       "      <th>NDVI</th>\n",
       "      <th>MCARI_OSAVI_RE</th>\n",
       "      <th>MTCI</th>\n",
       "      <th>TCARI_OSAVI</th>\n",
       "      <th>CCCI_simpl</th>\n",
       "      <th>GNDVI</th>\n",
       "      <th>CCCI</th>\n",
       "      <th>RVI</th>\n",
       "      <th>CIred_edge</th>\n",
       "      <th>TCARI_OSAVI_RE</th>\n",
       "    </tr>\n",
       "  </thead>\n",
       "  <tbody>\n",
       "    <tr>\n",
       "      <th>0</th>\n",
       "      <td>09/11/2017</td>\n",
       "      <td>0.283920</td>\n",
       "      <td>1.015761</td>\n",
       "      <td>0.074783</td>\n",
       "      <td>0.206467</td>\n",
       "      <td>0.155900</td>\n",
       "      <td>0.691066</td>\n",
       "      <td>1.357306</td>\n",
       "      <td>0.155488</td>\n",
       "      <td>0.336669</td>\n",
       "      <td>0.362977</td>\n",
       "      <td>1.520898</td>\n",
       "      <td>0.161725</td>\n",
       "      <td>2.154459</td>\n",
       "    </tr>\n",
       "    <tr>\n",
       "      <th>1</th>\n",
       "      <td>09/11/2017</td>\n",
       "      <td>0.274314</td>\n",
       "      <td>0.985348</td>\n",
       "      <td>0.077153</td>\n",
       "      <td>0.203141</td>\n",
       "      <td>0.188865</td>\n",
       "      <td>0.753115</td>\n",
       "      <td>1.316350</td>\n",
       "      <td>0.175170</td>\n",
       "      <td>0.329649</td>\n",
       "      <td>0.382892</td>\n",
       "      <td>1.511626</td>\n",
       "      <td>0.167301</td>\n",
       "      <td>2.188258</td>\n",
       "    </tr>\n",
       "    <tr>\n",
       "      <th>2</th>\n",
       "      <td>09/11/2017</td>\n",
       "      <td>0.294672</td>\n",
       "      <td>1.093054</td>\n",
       "      <td>0.079282</td>\n",
       "      <td>0.228269</td>\n",
       "      <td>0.164282</td>\n",
       "      <td>0.662644</td>\n",
       "      <td>1.376631</td>\n",
       "      <td>0.192850</td>\n",
       "      <td>0.353286</td>\n",
       "      <td>0.348945</td>\n",
       "      <td>1.592500</td>\n",
       "      <td>0.172282</td>\n",
       "      <td>2.167296</td>\n",
       "    </tr>\n",
       "    <tr>\n",
       "      <th>3</th>\n",
       "      <td>09/11/2017</td>\n",
       "      <td>0.296775</td>\n",
       "      <td>1.191791</td>\n",
       "      <td>0.094331</td>\n",
       "      <td>0.268019</td>\n",
       "      <td>0.236521</td>\n",
       "      <td>0.704585</td>\n",
       "      <td>1.336456</td>\n",
       "      <td>0.317840</td>\n",
       "      <td>0.372851</td>\n",
       "      <td>0.355268</td>\n",
       "      <td>1.736582</td>\n",
       "      <td>0.208449</td>\n",
       "      <td>2.237800</td>\n",
       "    </tr>\n",
       "    <tr>\n",
       "      <th>4</th>\n",
       "      <td>09/11/2017</td>\n",
       "      <td>0.239374</td>\n",
       "      <td>1.052623</td>\n",
       "      <td>0.099655</td>\n",
       "      <td>0.230299</td>\n",
       "      <td>0.288989</td>\n",
       "      <td>0.957019</td>\n",
       "      <td>1.114491</td>\n",
       "      <td>0.362056</td>\n",
       "      <td>0.344411</td>\n",
       "      <td>0.435488</td>\n",
       "      <td>1.600575</td>\n",
       "      <td>0.221476</td>\n",
       "      <td>2.164132</td>\n",
       "    </tr>\n",
       "  </tbody>\n",
       "</table>\n",
       "</div>"
      ],
      "text/plain": [
       "        FECHA  MCARI_OSAVI  CI_green      NDRE      NDVI  MCARI_OSAVI_RE  \\\n",
       "0  09/11/2017     0.283920  1.015761  0.074783  0.206467        0.155900   \n",
       "1  09/11/2017     0.274314  0.985348  0.077153  0.203141        0.188865   \n",
       "2  09/11/2017     0.294672  1.093054  0.079282  0.228269        0.164282   \n",
       "3  09/11/2017     0.296775  1.191791  0.094331  0.268019        0.236521   \n",
       "4  09/11/2017     0.239374  1.052623  0.099655  0.230299        0.288989   \n",
       "\n",
       "       MTCI  TCARI_OSAVI  CCCI_simpl     GNDVI      CCCI       RVI  \\\n",
       "0  0.691066     1.357306    0.155488  0.336669  0.362977  1.520898   \n",
       "1  0.753115     1.316350    0.175170  0.329649  0.382892  1.511626   \n",
       "2  0.662644     1.376631    0.192850  0.353286  0.348945  1.592500   \n",
       "3  0.704585     1.336456    0.317840  0.372851  0.355268  1.736582   \n",
       "4  0.957019     1.114491    0.362056  0.344411  0.435488  1.600575   \n",
       "\n",
       "   CIred_edge  TCARI_OSAVI_RE  \n",
       "0    0.161725        2.154459  \n",
       "1    0.167301        2.188258  \n",
       "2    0.172282        2.167296  \n",
       "3    0.208449        2.237800  \n",
       "4    0.221476        2.164132  "
      ]
     },
     "execution_count": 10,
     "metadata": {},
     "output_type": "execute_result"
    }
   ],
   "source": [
    "X.drop(\"x\", axis=1, inplace=True)\n",
    "X.drop(\"y\", axis=1, inplace=True)\n",
    "#X.drop(\"P2O5 mg/kg\", axis=1, inplace=True)\n",
    "#X.drop(\"P2O5 kg/ha\", axis=1, inplace=True)\n",
    "X.head()"
   ]
  },
  {
   "cell_type": "code",
   "execution_count": 11,
   "metadata": {},
   "outputs": [],
   "source": [
    "\"\"\"\n",
    "numeric_variables = ['MCARI_OSAVI',\n",
    " 'CI_green',\n",
    " 'NDRE',\n",
    " 'NDVI',\n",
    " 'MCARI_OSAVI_RE',\n",
    " 'MTCI',\n",
    " 'TCARI_OSAVI',\n",
    " 'CCCI_simpl',\n",
    " 'GNDVI',\n",
    " 'CCCI',\n",
    " 'RVI',\n",
    " 'CIred_edge',\n",
    " 'TCARI_OSAVI_RE']\n",
    "\"\"\"\n",
    "\n",
    "numeric_variables = ['TCARI_OSAVI_RE',\n",
    "                     'CI_green',\n",
    "                     'TCARI_OSAVI',\n",
    "                     'GNDVI',\n",
    "                     'NDVI'\n",
    "                    ]\n"
   ]
  },
  {
   "cell_type": "code",
   "execution_count": 12,
   "metadata": {},
   "outputs": [
    {
     "data": {
      "text/plain": [
       "RandomForestRegressor(bootstrap=True, criterion='mse', max_depth=None,\n",
       "           max_features='auto', max_leaf_nodes=None,\n",
       "           min_impurity_decrease=0.0, min_impurity_split=None,\n",
       "           min_samples_leaf=1, min_samples_split=2,\n",
       "           min_weight_fraction_leaf=0.0, n_estimators=100, n_jobs=None,\n",
       "           oob_score=True, random_state=0, verbose=0, warm_start=False)"
      ]
     },
     "execution_count": 12,
     "metadata": {},
     "output_type": "execute_result"
    }
   ],
   "source": [
    "# letś build our first model. I always have oob_score=True. It is a good idea to increase n_estimators\n",
    "#  to a number higher than the defaul. in this case the oob_predictions will be based on a forest of 33 trees.\n",
    "# I set random_state=42 so that you all could replicate the model exactly\n",
    "model = RandomForestRegressor(n_estimators=100, oob_score=True, random_state=0)\n",
    "\n",
    "# I only use numeric_variables because I have yet to dummy out the categorical variables\n",
    "model.fit(X[numeric_variables], y)"
   ]
  },
  {
   "cell_type": "code",
   "execution_count": 13,
   "metadata": {},
   "outputs": [
    {
     "data": {
      "text/plain": [
       "0.7185414779633608"
      ]
     },
     "execution_count": 13,
     "metadata": {},
     "output_type": "execute_result"
    }
   ],
   "source": [
    "# for regression, the oob_score attribute gives the R^2 based on the obb predictions. We want to use c-stat,\n",
    "# for awareness. By the way, attibutes in skelearn that have a trailing underscore are only available after\n",
    "# the model has been run\n",
    "model.oob_score_"
   ]
  },
  {
   "cell_type": "code",
   "execution_count": 14,
   "metadata": {},
   "outputs": [
    {
     "data": {
      "text/plain": [
       "0.9634157160655605"
      ]
     },
     "execution_count": 14,
     "metadata": {},
     "output_type": "execute_result"
    }
   ],
   "source": [
    "# model score\n",
    "model.score(X[numeric_variables],y)\n",
    "# if the y is a binary dtype\n",
    "# y_oob = model.oob_prediction_\n",
    "# print(c-stat: \", roc_auc_score(y, y_oob))"
   ]
  },
  {
   "cell_type": "code",
   "execution_count": 15,
   "metadata": {},
   "outputs": [],
   "source": [
    "# drop the variables x and y\n",
    "X.drop([\"FECHA\"], axis=1, inplace=True)"
   ]
  },
  {
   "cell_type": "code",
   "execution_count": 16,
   "metadata": {},
   "outputs": [
    {
     "name": "stdout",
     "output_type": "stream",
     "text": [
      "0.9634157160655605\n"
     ]
    }
   ],
   "source": [
    "model = RandomForestRegressor(100, oob_score=True, n_jobs=-1, random_state=0)\n",
    "model.fit(X[numeric_variables],y)\n",
    "\n",
    "print(model.score(X[numeric_variables],y))\n",
    "\n",
    "# binary values in y\n",
    "#print(\"c-stat: \", roc_auc_score(y, model.oob_prediction_))"
   ]
  },
  {
   "cell_type": "code",
   "execution_count": 17,
   "metadata": {},
   "outputs": [
    {
     "data": {
      "text/plain": [
       "array([0.09299314, 0.08469411, 0.6618972 , 0.07726924, 0.0831463 ])"
      ]
     },
     "execution_count": 17,
     "metadata": {},
     "output_type": "execute_result"
    }
   ],
   "source": [
    "# variable importance\n",
    "model.feature_importances_"
   ]
  },
  {
   "cell_type": "code",
   "execution_count": 18,
   "metadata": {},
   "outputs": [
    {
     "data": {
      "text/plain": [
       "<matplotlib.axes._subplots.AxesSubplot at 0x14f1096360b8>"
      ]
     },
     "execution_count": 18,
     "metadata": {},
     "output_type": "execute_result"
    },
    {
     "data": {
      "image/png": "[encoded data removed]",
      "text/plain": [
       "<Figure size 504x432 with 1 Axes>"
      ]
     },
     "metadata": {
      "needs_background": "light"
     },
     "output_type": "display_data"
    }
   ],
   "source": [
    "# simple version that shows all of the variables\n",
    "feature_importances = pd.DataFrame({\"importance\": model.feature_importances_}, index=X[numeric_variables].columns)\n",
    "feature_importances.sort_values(by=[\"importance\"], inplace=True)\n",
    "feature_importances.plot(kind=\"barh\", figsize=(7,6))"
   ]
  },
  {
   "cell_type": "code",
   "execution_count": 19,
   "metadata": {},
   "outputs": [
    {
     "name": "stdout",
     "output_type": "stream",
     "text": [
      "30 trees\n",
      "0.960110527509746\n",
      "\n",
      "50 trees\n",
      "0.9629217578503259\n",
      "\n",
      "100 trees\n",
      "0.9671075541640614\n",
      "\n",
      "200 trees\n",
      "0.9664140836801398\n",
      "\n",
      "500 trees\n",
      "0.9664669649229807\n",
      "\n",
      "1000 trees\n",
      "0.9671091367557748\n",
      "\n",
      "2000 trees\n",
      "0.9671268484520066\n",
      "\n"
     ]
    },
    {
     "data": {
      "image/png": "[encoded data removed]",
      "text/plain": [
       "<Figure size 432x288 with 1 Axes>"
      ]
     },
     "metadata": {
      "needs_background": "light"
     },
     "output_type": "display_data"
    }
   ],
   "source": [
    "results = []\n",
    "n_estimator_options = [30, 50, 100, 200, 500, 1000, 2000]\n",
    "\n",
    "for trees in n_estimator_options:\n",
    "    model = RandomForestRegressor(trees, oob_score=True, n_jobs=-1, random_state=0)\n",
    "    model.fit(X, y)\n",
    "    print (trees, \"trees\")\n",
    "    # roc = roc_auc_score(y, model.oob_prediction_)\n",
    "    # print (\"C-stat: \", roc)\n",
    "    print (model.score(X,y))\n",
    "    results.append(model.score(X,y))\n",
    "    print (\"\")\n",
    "    \n",
    "pd.Series(results, n_estimator_options).plot();"
   ]
  },
  {
   "cell_type": "code",
   "execution_count": 20,
   "metadata": {},
   "outputs": [
    {
     "name": "stdout",
     "output_type": "stream",
     "text": [
      "auto option\n",
      "0.9671091367557748\n",
      "\n",
      "None option\n",
      "0.9671091367557748\n",
      "\n",
      "sqrt option\n",
      "0.9682025748495644\n",
      "\n",
      "log2 option\n",
      "0.9682025748495644\n",
      "\n",
      "0.9 option\n",
      "0.9671223568793194\n",
      "\n",
      "0.2 option\n",
      "0.9690990164751749\n",
      "\n"
     ]
    },
    {
     "data": {
      "image/png": "[encoded data removed]",
      "text/plain": [
       "<Figure size 432x288 with 1 Axes>"
      ]
     },
     "metadata": {
      "needs_background": "light"
     },
     "output_type": "display_data"
    }
   ],
   "source": [
    "results = []\n",
    "max_features_options = [\"auto\", None, \"sqrt\", \"log2\", 0.9, 0.2]\n",
    "\n",
    "for max_features in max_features_options:\n",
    "    model = RandomForestRegressor(n_estimators=1000, oob_score=True, n_jobs=-1, random_state=0, max_features=max_features)\n",
    "    model.fit(X, y)\n",
    "    print (max_features, \"option\")\n",
    "    # roc = roc_auc_score(y, model.oob_prediction_)\n",
    "    # print (\"C-stat: \", roc)\n",
    "    print (model.score(X,y))\n",
    "    results.append(model.score(X,y))\n",
    "    print (\"\")\n",
    "    \n",
    "pd.Series(results, max_features_options).plot(kind=\"barh\", xlim=(.9,.98));\n"
   ]
  },
  {
   "cell_type": "code",
   "execution_count": 21,
   "metadata": {},
   "outputs": [
    {
     "name": "stdout",
     "output_type": "stream",
     "text": [
      "1 min samples\n",
      "0.9682025748495644\n",
      "\n",
      "2 min samples\n",
      "0.9372032528995382\n",
      "\n",
      "3 min samples\n",
      "0.9081720721929853\n",
      "\n",
      "4 min samples\n",
      "0.88558674770782\n",
      "\n",
      "5 min samples\n",
      "0.869295579098682\n",
      "\n",
      "6 min samples\n",
      "0.8546023466877478\n",
      "\n",
      "7 min samples\n",
      "0.8436030908404063\n",
      "\n",
      "8 min samples\n",
      "0.8329699082292014\n",
      "\n",
      "9 min samples\n",
      "0.8244176506890967\n",
      "\n",
      "10 min samples\n",
      "0.8143166789169997\n",
      "\n"
     ]
    },
    {
     "data": {
      "image/png": "[encoded data removed]",
      "text/plain": [
       "<Figure size 432x288 with 1 Axes>"
      ]
     },
     "metadata": {
      "needs_background": "light"
     },
     "output_type": "display_data"
    }
   ],
   "source": [
    "results = []\n",
    "min_samples_leaf_options = [1, 2, 3, 4, 5, 6, 7, 8, 9, 10]\n",
    "\n",
    "for min_samples in min_samples_leaf_options:\n",
    "    model = RandomForestRegressor(n_estimators=1000, \n",
    "                                  oob_score=True, \n",
    "                                  n_jobs=-1, \n",
    "                                  random_state=0, \n",
    "                                  max_features=\"sqrt\", \n",
    "                                  min_samples_leaf=min_samples)\n",
    "    model.fit(X, y)\n",
    "    print (min_samples, \"min samples\")\n",
    "    # roc = roc_auc_score(y, model.oob_prediction_)\n",
    "    # print (\"C-stat: \", roc)\n",
    "    print (model.score(X,y))\n",
    "    results.append(model.score(X,y))\n",
    "    print (\"\")\n",
    "    \n",
    "pd.Series(results, min_samples_leaf_options).plot();"
   ]
  },
  {
   "cell_type": "code",
   "execution_count": 22,
   "metadata": {},
   "outputs": [
    {
     "name": "stdout",
     "output_type": "stream",
     "text": [
      "0.9630421850711057\n"
     ]
    }
   ],
   "source": [
    "model = RandomForestRegressor(n_estimators=1000, \n",
    "                              oob_score=True, \n",
    "                              n_jobs=-1, \n",
    "                              random_state=0, \n",
    "                              max_features=\"sqrt\", \n",
    "                              min_samples_leaf=1)\n",
    "model.fit(X[numeric_variables], y)\n",
    "\n",
    "print (model.score(X[numeric_variables],y))\n",
    "# roc = roc_auc_score(y, model.oob_prediction_)\n",
    "# print (\"C-stat: \", roc)"
   ]
  },
  {
   "cell_type": "code",
   "execution_count": 23,
   "metadata": {},
   "outputs": [],
   "source": [
    "# Make train and test datasets\n",
    "from sklearn.model_selection import train_test_split\n",
    "import numpy as np\n",
    "np.random.seed(100)\n",
    "X_train, X_test, y_train, y_test = train_test_split(X[numeric_variables], y, test_size=.3)"
   ]
  },
  {
   "cell_type": "code",
   "execution_count": 24,
   "metadata": {},
   "outputs": [
    {
     "name": "stdout",
     "output_type": "stream",
     "text": [
      "R^2: 0.7\n"
     ]
    }
   ],
   "source": [
    "from sklearn.linear_model import LinearRegression\n",
    "model = LinearRegression()\n",
    "model.fit(X_train, y_train)\n",
    "print (\"R^2:\", model.score(X_test, y_test).round(2))"
   ]
  },
  {
   "cell_type": "code",
   "execution_count": 25,
   "metadata": {},
   "outputs": [
    {
     "name": "stdout",
     "output_type": "stream",
     "text": [
      "R^2: 0.46\n"
     ]
    }
   ],
   "source": [
    "from sklearn.tree import DecisionTreeRegressor\n",
    "model = DecisionTreeRegressor()\n",
    "model.fit(X_train, y_train)\n",
    "print (\"R^2:\", model.score(X_test, y_test).round(2))"
   ]
  },
  {
   "cell_type": "code",
   "execution_count": 26,
   "metadata": {},
   "outputs": [
    {
     "name": "stdout",
     "output_type": "stream",
     "text": [
      "R^2: 0.76\n"
     ]
    },
    {
     "name": "stderr",
     "output_type": "stream",
     "text": [
      "/home/jorge/anaconda3/lib/python3.7/site-packages/sklearn/ensemble/forest.py:246: FutureWarning: The default value of n_estimators will change from 10 in version 0.20 to 100 in 0.22.\n",
      "  \"10 in version 0.20 to 100 in 0.22.\", FutureWarning)\n"
     ]
    }
   ],
   "source": [
    "from sklearn.ensemble import RandomForestRegressor\n",
    "model = RandomForestRegressor(random_state=42)\n",
    "model.fit(X_train, y_train)\n",
    "print (\"R^2:\", model.score(X_test, y_test).round(2))"
   ]
  },
  {
   "cell_type": "code",
   "execution_count": 27,
   "metadata": {},
   "outputs": [],
   "source": [
    "data = pd.DataFrame({\"N_TOTAL\": y_test, \"Pred\": model.predict(X_test)})"
   ]
  },
  {
   "cell_type": "code",
   "execution_count": 28,
   "metadata": {},
   "outputs": [
    {
     "name": "stderr",
     "output_type": "stream",
     "text": [
      "/home/jorge/anaconda3/lib/python3.7/site-packages/scipy/stats/stats.py:1713: FutureWarning: Using a non-tuple sequence for multidimensional indexing is deprecated; use `arr[tuple(seq)]` instead of `arr[seq]`. In the future this will be interpreted as an array index, `arr[np.array(seq)]`, which will result either in an error or a different result.\n",
      "  return np.add.reduce(sorted[indexer] * weights, axis=axis) / sumval\n"
     ]
    },
    {
     "data": {
      "text/plain": [
       "<seaborn.axisgrid.JointGrid at 0x14f10962f358>"
      ]
     },
     "execution_count": 28,
     "metadata": {},
     "output_type": "execute_result"
    },
    {
     "data": {
      "image/png": "[encoded data removed]",
      "text/plain": [
       "<Figure size 432x432 with 3 Axes>"
      ]
     },
     "metadata": {
      "needs_background": "light"
     },
     "output_type": "display_data"
    }
   ],
   "source": [
    "import seaborn as sns\n",
    "sns.jointplot(\"N_TOTAL\", \"Pred\", data=data, kind=\"reg\")"
   ]
  },
  {
   "cell_type": "code",
   "execution_count": 29,
   "metadata": {},
   "outputs": [
    {
     "data": {
      "text/plain": [
       "array([  0.0371375 ,  -0.05964599,  -0.73933986,  -1.91097518,\n",
       "       -12.7637546 ])"
      ]
     },
     "execution_count": 29,
     "metadata": {},
     "output_type": "execute_result"
    }
   ],
   "source": [
    "from sklearn.model_selection import cross_val_score\n",
    "scores = cross_val_score(model, X[numeric_variables], y, cv=5)\n",
    "scores  "
   ]
  },
  {
   "cell_type": "code",
   "execution_count": 30,
   "metadata": {},
   "outputs": [
    {
     "name": "stdout",
     "output_type": "stream",
     "text": [
      "Accuracy: -3.09 (+/- 9.78)\n"
     ]
    }
   ],
   "source": [
    "print(\"Accuracy: %0.2f (+/- %0.2f)\" % (scores.mean(), scores.std() * 2))"
   ]
  },
  {
   "cell_type": "code",
   "execution_count": 31,
   "metadata": {},
   "outputs": [
    {
     "data": {
      "image/png": "[encoded data removed]",
      "text/plain": [
       "<Figure size 576x576 with 2 Axes>"
      ]
     },
     "metadata": {
      "needs_background": "light"
     },
     "output_type": "display_data"
    }
   ],
   "source": [
    "from sklearn.tree import _tree, export_graphviz\n",
    "import matplotlib.pyplot as plt\n",
    "def leaf_depths(tree, node_id = 0):\n",
    "    \n",
    "    left_child = tree.children_left[node_id]\n",
    "    right_child = tree.children_right[node_id]\n",
    "\n",
    "    if left_child == _tree.TREE_LEAF:\n",
    "        \n",
    "        depths = np.array([0])\n",
    "\n",
    "    else:\n",
    "        \n",
    "        left_depths = leaf_depths(tree, left_child) + 1\n",
    "        right_depths = leaf_depths(tree, right_child) + 1\n",
    "\n",
    "        depths = np.append(left_depths, right_depths)\n",
    "\n",
    "    return depths\n",
    "\n",
    "def leaf_samples(tree, node_id = 0):\n",
    "    \n",
    "    left_child = tree.children_left[node_id]\n",
    "    right_child = tree.children_right[node_id]\n",
    "\n",
    "    if left_child == _tree.TREE_LEAF:\n",
    "        \n",
    "        samples = np.array([tree.n_node_samples[node_id]])\n",
    "\n",
    "    else:\n",
    "        \n",
    "        left_samples = leaf_samples(tree, left_child)\n",
    "        right_samples = leaf_samples(tree, right_child)\n",
    "\n",
    "        samples = np.append(left_samples, right_samples)\n",
    "\n",
    "    return samples\n",
    "\n",
    "def draw_tree(ensemble, tree_id=0):\n",
    "\n",
    "    plt.figure(figsize=(8,8))\n",
    "    plt.subplot(211)\n",
    "\n",
    "    tree = ensemble.estimators_[tree_id].tree_\n",
    "\n",
    "    depths = leaf_depths(tree)\n",
    "    plt.hist(depths, histtype='step', color='#9933ff', \n",
    "             bins=range(min(depths), max(depths)+1))\n",
    "\n",
    "    plt.xlabel(\"Depth of leaf nodes (tree %s)\" % tree_id)\n",
    "    \n",
    "    plt.subplot(212)\n",
    "    \n",
    "    samples = leaf_samples(tree)\n",
    "    plt.hist(samples, histtype='step', color='#3399ff', \n",
    "             bins=range(min(samples), max(samples)+1))\n",
    "    \n",
    "    plt.xlabel(\"Number of samples in leaf nodes (tree %s)\" % tree_id)\n",
    "    \n",
    "    plt.show()\n",
    "\n",
    "def draw_ensemble(ensemble):\n",
    "\n",
    "    plt.figure(figsize=(8,8))\n",
    "    plt.subplot(211)\n",
    "\n",
    "    depths_all = np.array([], dtype=int)\n",
    "\n",
    "    for x in ensemble.estimators_:\n",
    "        tree = x.tree_\n",
    "        depths = leaf_depths(tree)\n",
    "        depths_all = np.append(depths_all, depths)\n",
    "        plt.hist(depths, histtype='step', color='#ddaaff', \n",
    "                 bins=range(min(depths), max(depths)+1))\n",
    "\n",
    "    plt.hist(depths_all, histtype='step', color='#9933ff', \n",
    "             bins=range(min(depths_all), max(depths_all)+1), \n",
    "             weights=np.ones(len(depths_all))/len(ensemble.estimators_), \n",
    "             linewidth=2)\n",
    "    plt.xlabel(\"Depth of leaf nodes\")\n",
    "    \n",
    "    samples_all = np.array([], dtype=int)\n",
    "    \n",
    "    plt.subplot(212)\n",
    "    \n",
    "    for x in ensemble.estimators_:\n",
    "        tree = x.tree_\n",
    "        samples = leaf_samples(tree)\n",
    "        samples_all = np.append(samples_all, samples)\n",
    "        plt.hist(samples, histtype='step', color='#aaddff', \n",
    "                 bins=range(min(samples), max(samples)+1))\n",
    "    \n",
    "    plt.hist(samples_all, histtype='step', color='#3399ff', \n",
    "             bins=range(min(samples_all), max(samples_all)+1), \n",
    "             weights=np.ones(len(samples_all))/len(ensemble.estimators_), \n",
    "             linewidth=2)\n",
    "    plt.xlabel(\"Number of samples in leaf nodes\")\n",
    "    \n",
    "    plt.show()\n",
    "\n",
    "draw_ensemble(model)"
   ]
  },
  {
   "cell_type": "code",
   "execution_count": 32,
   "metadata": {},
   "outputs": [
    {
     "data": {
      "text/plain": [
       "DecisionTreeRegressor(criterion='mse', max_depth=None, max_features='auto',\n",
       "           max_leaf_nodes=None, min_impurity_decrease=0.0,\n",
       "           min_impurity_split=None, min_samples_leaf=1,\n",
       "           min_samples_split=2, min_weight_fraction_leaf=0.0,\n",
       "           presort=False, random_state=1608637542, splitter='best')"
      ]
     },
     "execution_count": 32,
     "metadata": {},
     "output_type": "execute_result"
    }
   ],
   "source": [
    "# model tree\n",
    "model.estimators_[0]"
   ]
  },
  {
   "cell_type": "code",
   "execution_count": 33,
   "metadata": {},
   "outputs": [
    {
     "data": {
      "text/plain": [
       "512"
      ]
     },
     "execution_count": 33,
     "metadata": {},
     "output_type": "execute_result"
    }
   ],
   "source": [
    "from sklearn import tree\n",
    "from sklearn.tree import export_graphviz\n",
    "import os\n",
    "\n",
    "export_graphviz(model.estimators_[0],\n",
    "                feature_names=X[numeric_variables].columns,\n",
    "                filled=True,\n",
    "                rounded=True)\n",
    "\n",
    "os.system('dot -Tpng tree.dot -o tree_sin_x_y.png')"
   ]
  },
  {
   "cell_type": "code",
   "execution_count": 34,
   "metadata": {},
   "outputs": [
    {
     "data": {
      "text/html": [
       "<div>\n",
       "<style scoped>\n",
       "    .dataframe tbody tr th:only-of-type {\n",
       "        vertical-align: middle;\n",
       "    }\n",
       "\n",
       "    .dataframe tbody tr th {\n",
       "        vertical-align: top;\n",
       "    }\n",
       "\n",
       "    .dataframe thead th {\n",
       "        text-align: right;\n",
       "    }\n",
       "</style>\n",
       "<table border=\"1\" class=\"dataframe\">\n",
       "  <thead>\n",
       "    <tr style=\"text-align: right;\">\n",
       "      <th></th>\n",
       "      <th>TCARI_OSAVI_RE</th>\n",
       "      <th>CI_green</th>\n",
       "      <th>TCARI_OSAVI</th>\n",
       "      <th>GNDVI</th>\n",
       "      <th>NDVI</th>\n",
       "    </tr>\n",
       "  </thead>\n",
       "  <tbody>\n",
       "    <tr>\n",
       "      <th>0</th>\n",
       "      <td>2.154459</td>\n",
       "      <td>1.015761</td>\n",
       "      <td>1.357306</td>\n",
       "      <td>0.336669</td>\n",
       "      <td>0.206467</td>\n",
       "    </tr>\n",
       "    <tr>\n",
       "      <th>1</th>\n",
       "      <td>2.188258</td>\n",
       "      <td>0.985348</td>\n",
       "      <td>1.316350</td>\n",
       "      <td>0.329649</td>\n",
       "      <td>0.203141</td>\n",
       "    </tr>\n",
       "    <tr>\n",
       "      <th>2</th>\n",
       "      <td>2.167296</td>\n",
       "      <td>1.093054</td>\n",
       "      <td>1.376631</td>\n",
       "      <td>0.353286</td>\n",
       "      <td>0.228269</td>\n",
       "    </tr>\n",
       "    <tr>\n",
       "      <th>3</th>\n",
       "      <td>2.237800</td>\n",
       "      <td>1.191791</td>\n",
       "      <td>1.336456</td>\n",
       "      <td>0.372851</td>\n",
       "      <td>0.268019</td>\n",
       "    </tr>\n",
       "    <tr>\n",
       "      <th>4</th>\n",
       "      <td>2.164132</td>\n",
       "      <td>1.052623</td>\n",
       "      <td>1.114491</td>\n",
       "      <td>0.344411</td>\n",
       "      <td>0.230299</td>\n",
       "    </tr>\n",
       "  </tbody>\n",
       "</table>\n",
       "</div>"
      ],
      "text/plain": [
       "   TCARI_OSAVI_RE  CI_green  TCARI_OSAVI     GNDVI      NDVI\n",
       "0        2.154459  1.015761     1.357306  0.336669  0.206467\n",
       "1        2.188258  0.985348     1.316350  0.329649  0.203141\n",
       "2        2.167296  1.093054     1.376631  0.353286  0.228269\n",
       "3        2.237800  1.191791     1.336456  0.372851  0.268019\n",
       "4        2.164132  1.052623     1.114491  0.344411  0.230299"
      ]
     },
     "execution_count": 34,
     "metadata": {},
     "output_type": "execute_result"
    }
   ],
   "source": [
    "X[numeric_variables].head()"
   ]
  },
  {
   "cell_type": "code",
   "execution_count": 35,
   "metadata": {},
   "outputs": [
    {
     "data": {
      "text/plain": [
       "<matplotlib.axes._subplots.AxesSubplot at 0x14f10834b940>"
      ]
     },
     "execution_count": 35,
     "metadata": {},
     "output_type": "execute_result"
    },
    {
     "data": {
      "image/png": "[encoded data removed]",
      "text/plain": [
       "<Figure size 432x288 with 2 Axes>"
      ]
     },
     "metadata": {
      "needs_background": "light"
     },
     "output_type": "display_data"
    }
   ],
   "source": [
    "sns.heatmap(X[numeric_variables].corr(), cmap=\"jet\")"
   ]
  },
  {
   "cell_type": "code",
   "execution_count": 36,
   "metadata": {},
   "outputs": [
    {
     "name": "stdout",
     "output_type": "stream",
     "text": [
      "                            OLS Regression Results                            \n",
      "==============================================================================\n",
      "Dep. Variable:                N_TOTAL   R-squared:                       0.940\n",
      "Model:                            OLS   Adj. R-squared:                  0.938\n",
      "Method:                 Least Squares   F-statistic:                     491.4\n",
      "Date:                Tue, 19 Feb 2019   Prob (F-statistic):           6.45e-94\n",
      "Time:                        08:56:10   Log-Likelihood:                -158.59\n",
      "No. Observations:                 162   AIC:                             327.2\n",
      "Df Residuals:                     157   BIC:                             342.6\n",
      "Df Model:                           5                                         \n",
      "Covariance Type:            nonrobust                                         \n",
      "==================================================================================\n",
      "                     coef    std err          t      P>|t|      [0.025      0.975]\n",
      "----------------------------------------------------------------------------------\n",
      "TCARI_OSAVI_RE    -0.4793      0.073     -6.529      0.000      -0.624      -0.334\n",
      "CI_green          -0.0824      0.029     -2.879      0.005      -0.139      -0.026\n",
      "TCARI_OSAVI        1.6257      0.166      9.773      0.000       1.297       1.954\n",
      "GNDVI              6.7997      0.993      6.848      0.000       4.838       8.761\n",
      "NDVI              -2.3575      0.832     -2.834      0.005      -4.001      -0.715\n",
      "==============================================================================\n",
      "Omnibus:                        1.634   Durbin-Watson:                   0.725\n",
      "Prob(Omnibus):                  0.442   Jarque-Bera (JB):                1.673\n",
      "Skew:                           0.236   Prob(JB):                        0.433\n",
      "Kurtosis:                       2.840   Cond. No.                         173.\n",
      "==============================================================================\n",
      "\n",
      "Warnings:\n",
      "[1] Standard Errors assume that the covariance matrix of the errors is correctly specified.\n"
     ]
    }
   ],
   "source": [
    "import statsmodels.api as sm\n",
    "est = sm.OLS(y, X[numeric_variables]).fit()\n",
    "\n",
    "print(est.summary())"
   ]
  },
  {
   "cell_type": "markdown",
   "metadata": {},
   "source": [
    "# linear regression"
   ]
  },
  {
   "cell_type": "code",
   "execution_count": 37,
   "metadata": {},
   "outputs": [
    {
     "data": {
      "text/plain": [
       "<seaborn.axisgrid.PairGrid at 0x14f0e7f5f198>"
      ]
     },
     "execution_count": 37,
     "metadata": {},
     "output_type": "execute_result"
    },
    {
     "data": {
      "image/png": "[encoded data removed]",
      "text/plain": [
       "<Figure size 900x900 with 30 Axes>"
      ]
     },
     "metadata": {
      "needs_background": "light"
     },
     "output_type": "display_data"
    }
   ],
   "source": [
    "sns.pairplot(X[numeric_variables])"
   ]
  },
  {
   "cell_type": "code",
   "execution_count": 38,
   "metadata": {},
   "outputs": [
    {
     "name": "stdout",
     "output_type": "stream",
     "text": [
      "Coefficients: \n",
      " [-0.23914635  0.0508395   0.9746856  -2.40892106  0.30565304]\n"
     ]
    },
    {
     "data": {
      "image/png": "[encoded data removed]",
      "text/plain": [
       "<Figure size 432x288 with 1 Axes>"
      ]
     },
     "metadata": {
      "needs_background": "light"
     },
     "output_type": "display_data"
    }
   ],
   "source": [
    "from sklearn.model_selection import train_test_split\n",
    "X_train, X_test, y_train, y_test = train_test_split(X[numeric_variables], y, test_size=0.3, random_state=101)\n",
    "\n",
    "from sklearn.linear_model import LinearRegression\n",
    "\n",
    "# crear la estancia del modelo\n",
    "model = LinearRegression()\n",
    "\n",
    "# ajustar el modelo a la información de entrenamiento\n",
    "model.fit(X_train,y_train)\n",
    "\n",
    "# coeficientes del modelo\n",
    "print('Coefficients: \\n', model.coef_)\n",
    "\n",
    "predictions = model.predict( X_test)\n",
    "\n",
    "# crear una gráfica con los valores sinteticos vs reales\n",
    "plt.scatter(y_test,predictions)\n",
    "plt.xlabel('Y Test',)\n",
    "plt.ylabel('Predicion')\n",
    "plt.show()"
   ]
  },
  {
   "cell_type": "code",
   "execution_count": 39,
   "metadata": {},
   "outputs": [
    {
     "name": "stdout",
     "output_type": "stream",
     "text": [
      "0.5755863973158194\n"
     ]
    }
   ],
   "source": [
    "from scipy import stats\n",
    "slope, intercept, r_value, p_value, std_err = stats.linregress(y_test,predictions)\n",
    "\n",
    "print(r_value**2)"
   ]
  },
  {
   "cell_type": "code",
   "execution_count": 40,
   "metadata": {},
   "outputs": [
    {
     "name": "stderr",
     "output_type": "stream",
     "text": [
      "/home/jorge/anaconda3/lib/python3.7/site-packages/scipy/stats/stats.py:1713: FutureWarning: Using a non-tuple sequence for multidimensional indexing is deprecated; use `arr[tuple(seq)]` instead of `arr[seq]`. In the future this will be interpreted as an array index, `arr[np.array(seq)]`, which will result either in an error or a different result.\n",
      "  return np.add.reduce(sorted[indexer] * weights, axis=axis) / sumval\n"
     ]
    },
    {
     "data": {
      "image/png": "[encoded data removed]",
      "text/plain": [
       "<Figure size 432x288 with 1 Axes>"
      ]
     },
     "metadata": {
      "needs_background": "light"
     },
     "output_type": "display_data"
    }
   ],
   "source": [
    "sns.distplot((y_test-predictions),bins=163);"
   ]
  },
  {
   "cell_type": "code",
   "execution_count": 41,
   "metadata": {},
   "outputs": [
    {
     "name": "stdout",
     "output_type": "stream",
     "text": [
      "                Coeficiente\n",
      "TCARI_OSAVI_RE    -0.239146\n",
      "CI_green           0.050840\n",
      "TCARI_OSAVI        0.974686\n",
      "GNDVI             -2.408921\n",
      "NDVI               0.305653\n"
     ]
    }
   ],
   "source": [
    "coeffecients = pd.DataFrame(model.coef_,X[numeric_variables].columns)\n",
    "coeffecients.columns = ['Coeficiente']\n",
    "print(coeffecients)"
   ]
  }
 ],
 "metadata": {
  "kernelspec": {
   "display_name": "Python 3",
   "language": "python",
   "name": "python3"
  },
  "language_info": {
   "codemirror_mode": {
    "name": "ipython",
    "version": 3
   },
   "file_extension": ".py",
   "mimetype": "text/x-python",
   "name": "python",
   "nbconvert_exporter": "python",
   "pygments_lexer": "ipython3",
   "version": "3.7.1"
  }
 },
 "nbformat": 4,
 "nbformat_minor": 2
}
